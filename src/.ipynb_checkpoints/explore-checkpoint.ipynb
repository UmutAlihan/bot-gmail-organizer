{
 "cells": [
  {
   "cell_type": "code",
   "execution_count": null,
   "metadata": {},
   "outputs": [],
   "source": [
    "#!pip3 install --upgrade google-api-python-client google-auth-httplib2 google-auth-oauthlib\n",
    "#!pip3 uninstall jupyterlab-git\n",
    "#!jupyter labextension uninstal jupyterlab-git"
   ]
  },
  {
   "cell_type": "code",
   "execution_count": null,
   "metadata": {},
   "outputs": [],
   "source": [
    "import gmail_bot_functions as gb\n",
    "import dateutil.relativedelta\n",
    "import datetime\n",
    "from time import time\n",
    "\n",
    "service = gb.auth_service_to(\"alihandikel\")\n",
    "\n",
    "#mailIds = gb.list_all_messages(service, \"me\")\n",
    "#mailBox = gb.mailBox_retriever(service, mailIds, stop=10, verbose=True)\n",
    "#len(mailBox)"
   ]
  },
  {
   "cell_type": "code",
   "execution_count": null,
   "metadata": {},
   "outputs": [],
   "source": [
    "gb.label_messages_with_multiple_queries(service, [\"linkedin\"], \"JobApp\")"
   ]
  },
  {
   "cell_type": "code",
   "execution_count": null,
   "metadata": {},
   "outputs": [],
   "source": [
    "### TEST label_messages_with_multiple_queries(service, queries, label)\n",
    "labelid = gb.get_id_for_labelname(service, \"JobApp\")\n",
    "labelid_inbox = gb.get_id_for_labelname(service, \"INBOX\")\n",
    "\n",
    "label_actions = {'removeLabelIds': [labelid_inbox],\n",
    "                        'addLabelIds': [labelid]}\n",
    "\n",
    "queries = [\"linkedin\"]\n",
    "for query in queries:\n",
    "    mailIds = gb.list_messages_with_matching_query(service, \"me\", query=query)\n",
    "    len(mailIds)"
   ]
  },
  {
   "cell_type": "code",
   "execution_count": null,
   "metadata": {},
   "outputs": [],
   "source": [
    "#TEST list_messages_with_matching_query(service, \"me\", query=query)\n",
    "\n",
    "user_id = \"me\"\n",
    "query = \"linkedin\"\n",
    "response = service.users().messages().list(userId=user_id,\n",
    "                                           q=query).execute()\n",
    "\n",
    "messages = []\n",
    "if 'messages' in response:\n",
    "    messages.extend(response['messages'])\n",
    "\n",
    "while 'nextPageToken' in response:\n",
    "    page_token = response['nextPageToken']\n",
    "    response = service.users().messages().list(userId=user_id, q=query,\n",
    "                                     pageToken=page_token).execute()\n",
    "    \n",
    "    if 'messages' in response:\n",
    "        messages.extend(response['messages'])"
   ]
  },
  {
   "cell_type": "code",
   "execution_count": null,
   "metadata": {},
   "outputs": [],
   "source": [
    "import sys, os\n",
    "\n",
    "#print('sys.argv[0] =', sys.argv[0])\n",
    "pathname = os.path.dirname(sys.argv[0])\n",
    "fullpath = os.path.abspath(pathname)\n",
    "#print('path =', pathname)\n",
    "#print('full path =', os.path.abspath(pathname))\n",
    "\n",
    "filename = fullpath + \"path.out\"\n",
    "f = open(filename, \"w+\")\n",
    "f.close()\n",
    "\n"
   ]
  }
 ],
 "metadata": {
  "kernelspec": {
   "display_name": "Python 3",
   "language": "python",
   "name": "python3"
  },
  "language_info": {
   "codemirror_mode": {
    "name": "ipython",
    "version": 3
   },
   "file_extension": ".py",
   "mimetype": "text/x-python",
   "name": "python",
   "nbconvert_exporter": "python",
   "pygments_lexer": "ipython3",
   "version": "3.6.9"
  }
 },
 "nbformat": 4,
 "nbformat_minor": 4
}
