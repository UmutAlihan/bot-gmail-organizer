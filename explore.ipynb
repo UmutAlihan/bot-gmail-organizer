{
 "cells": [
  {
   "cell_type": "code",
   "execution_count": null,
   "metadata": {},
   "outputs": [],
   "source": [
    "#!pip3 install --upgrade google-api-python-client google-auth-httplib2 google-auth-oauthlib\n",
    "#!pip3 uninstall jupyterlab-git\n",
    "#!jupyter labextension uninstal jupyterlab-git"
   ]
  },
  {
   "cell_type": "code",
   "execution_count": 1,
   "metadata": {},
   "outputs": [
    {
     "name": "stderr",
     "output_type": "stream",
     "text": [
      "2020-04-08 22:18:54 uad root[7411] INFO # Authenticated\n",
      "2020-04-08 22:19:31 uad root[7411] INFO Got limited 10 mails!\n"
     ]
    },
    {
     "data": {
      "text/plain": [
       "11"
      ]
     },
     "execution_count": 1,
     "metadata": {},
     "output_type": "execute_result"
    }
   ],
   "source": [
    "import gmail_bot_functions as gb\n",
    "import dateutil.relativedelta\n",
    "import datetime\n",
    "from time import time\n",
    "\n",
    "service = gb.auth_service()\n",
    "mailIds = gb.list_all_messages(service, \"me\")\n",
    "mailBox = gb.mailBox_retriever(service, mailIds, stop=10, verbose=True)\n",
    "len(mailBox)"
   ]
  },
  {
   "cell_type": "code",
   "execution_count": 2,
   "metadata": {},
   "outputs": [
    {
     "name": "stdout",
     "output_type": "stream",
     "text": [
      "[('noreply@youtube.com', 1), ('jobs-listings@linkedin.com', 1), ('noreply@redditmail.com', 2), ('alihandikel@gmail.com', 2), ('job@neuvoo.com', 5)]\n"
     ]
    }
   ],
   "source": [
    "counted_messages, sorted_counted_messages = gb.count_retrieved_messages(mailBox)\n",
    "print(sorted_counted_messages)"
   ]
  },
  {
   "cell_type": "code",
   "execution_count": null,
   "metadata": {},
   "outputs": [],
   "source": [
    "# Get label ids\n",
    "\"\"\"labelids = {\"jobapp\" : gb.get_id_for_labelname(service, \"JobApp\"),\n",
    "            \"inbox\" : gb.get_id_for_labelname(service, \"INBOX\"),\n",
    "            \"dailycode\" :  gb.get_id_for_labelname(service, \"Daily Code\")}\"\"\"\n",
    "labelid = gb.get_id_for_labelname(service, labelname)\n",
    "labelid_inbox = gb.get_id_for_labelname(service, \"INBOX\")\n",
    "\n",
    "label_actions_jobapp = {'removeLabelIds': [labelid_inbox], \n",
    "                        'addLabelIds': [labelid]}"
   ]
  }
 ],
 "metadata": {
  "kernelspec": {
   "display_name": "Python 3",
   "language": "python",
   "name": "python3"
  },
  "language_info": {
   "codemirror_mode": {
    "name": "ipython",
    "version": 3
   },
   "file_extension": ".py",
   "mimetype": "text/x-python",
   "name": "python",
   "nbconvert_exporter": "python",
   "pygments_lexer": "ipython3",
   "version": "3.6.9"
  }
 },
 "nbformat": 4,
 "nbformat_minor": 4
}
