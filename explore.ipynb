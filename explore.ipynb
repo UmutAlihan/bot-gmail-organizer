{
 "cells": [
  {
   "cell_type": "code",
   "execution_count": null,
   "metadata": {},
   "outputs": [],
   "source": [
    "#!pip3 install --upgrade google-api-python-client google-auth-httplib2 google-auth-oauthlib\n",
    "#!pip3 uninstall jupyterlab-git\n",
    "#!jupyter labextension uninstal jupyterlab-git"
   ]
  },
  {
   "cell_type": "code",
   "execution_count": 1,
   "metadata": {},
   "outputs": [
    {
     "name": "stdout",
     "output_type": "stream",
     "text": [
      "# Authenticated\n"
     ]
    }
   ],
   "source": [
    "import gmail_bot_functions as gb\n",
    "import dateutil.relativedelta\n",
    "import datetime\n",
    "from time import time\n",
    "\n",
    "service = gb.auth_service()\n",
    "#mailIds = gb.list_all_messages(service, \"me\")\n",
    "\n",
    "#mailBox = gb.mailBox_retriever(service, mailIds, stop=250, verbose=True)\n",
    "#len(mailBox)"
   ]
  },
  {
   "cell_type": "code",
   "execution_count": null,
   "metadata": {},
   "outputs": [],
   "source": [
    "# Get label ids\n",
    "\"\"\"labelids = {\"jobapp\" : gb.get_id_for_labelname(service, \"JobApp\"),\n",
    "            \"inbox\" : gb.get_id_for_labelname(service, \"INBOX\"),\n",
    "            \"dailycode\" :  gb.get_id_for_labelname(service, \"Daily Code\")}\"\"\"\n",
    "labelid = gb.get_id_for_labelname(service, labelname)\n",
    "labelid_inbox = gb.get_id_for_labelname(service, \"INBOX\")\n",
    "\n",
    "label_actions_jobapp = {'removeLabelIds': [labelid_inbox], \n",
    "                        'addLabelIds': [labelid]}"
   ]
  },
  {
   "cell_type": "code",
   "execution_count": null,
   "metadata": {},
   "outputs": [],
   "source": [
    "fms = gb.find_mailids_below_threshold(mailBox, month=1, verbose=False)\n",
    "len(fms)"
   ]
  },
  {
   "cell_type": "code",
   "execution_count": null,
   "metadata": {},
   "outputs": [],
   "source": [
    "for mail in mails:\n",
    "    print(gb.get_message_info(mail))"
   ]
  }
 ],
 "metadata": {
  "kernelspec": {
   "display_name": "Python 3",
   "language": "python",
   "name": "python3"
  },
  "language_info": {
   "codemirror_mode": {
    "name": "ipython",
    "version": 3
   },
   "file_extension": ".py",
   "mimetype": "text/x-python",
   "name": "python",
   "nbconvert_exporter": "python",
   "pygments_lexer": "ipython3",
   "version": "3.6.9"
  }
 },
 "nbformat": 4,
 "nbformat_minor": 4
}
