{
 "cells": [
  {
   "cell_type": "code",
   "execution_count": null,
   "metadata": {},
   "outputs": [],
   "source": [
    "#!pip3 install --upgrade google-api-python-client google-auth-httplib2 google-auth-oauthlib"
   ]
  },
  {
   "cell_type": "code",
   "execution_count": null,
   "metadata": {},
   "outputs": [],
   "source": [
    "import gmail_bot_functions as gb"
   ]
  },
  {
   "cell_type": "code",
   "execution_count": null,
   "metadata": {},
   "outputs": [],
   "source": [
    "#Authenticate to your gmail address\n",
    "service = gb.auth_service()\n",
    "\n",
    "# Get all mail ids\n",
    "mailIds = gb.list_all_messages(service,\"me\")"
   ]
  },
  {
   "cell_type": "code",
   "execution_count": null,
   "metadata": {},
   "outputs": [],
   "source": [
    "msgs = []\n",
    "stop = 100\n",
    "for i, mailId in enumerate(mailIds):\n",
    "    #print(i)\n",
    "    msg = gb.get_message(service, \"me\", mailId[\"id\"])\n",
    "    msgs.append(msg)\n",
    "    if( i == stop):\n",
    "        print(\"Got 100 test mails as 'msgs' var\")\n",
    "        break"
   ]
  },
  {
   "cell_type": "code",
   "execution_count": null,
   "metadata": {},
   "outputs": [],
   "source": [
    "len(msgs)"
   ]
  },
  {
   "cell_type": "code",
   "execution_count": 60,
   "metadata": {},
   "outputs": [
    {
     "name": "stdout",
     "output_type": "stream",
     "text": [
      "Label_8697186808597687342\n"
     ]
    }
   ],
   "source": [
    "labelid = get_id_for_labelname(service, \"JobApp\")\n",
    "print(labelid)"
   ]
  },
  {
   "cell_type": "code",
   "execution_count": null,
   "metadata": {},
   "outputs": [],
   "source": [
    "mailBox = []\n",
    "mailIds = gb.list_messages_with_matching_query(service, \"me\", query='glassdoor')\n",
    "for i, mailId in enumerate(mailIds):\n",
    "    msg = gb.get_message(service, \"me\", mailId[\"id\"])\n",
    "    mailBox.append(msg)"
   ]
  },
  {
   "cell_type": "code",
   "execution_count": 61,
   "metadata": {},
   "outputs": [
    {
     "name": "stdout",
     "output_type": "stream",
     "text": [
      "['CATEGORY_PROMOTIONS', 'UNREAD', 'INBOX'] 17108d5d8efce2ca\n",
      "['Label_8697186808597687342', 'CATEGORY_UPDATES'] 170f96831c49c2d0\n",
      "['CATEGORY_PROMOTIONS', 'Label_8697186808597687342', 'UNREAD'] 170f49e7e66ba589\n",
      "['CATEGORY_PROMOTIONS', 'UNREAD', 'INBOX'] 170ea52a3c45d1c1\n",
      "['CATEGORY_PROMOTIONS', 'UNREAD', 'INBOX'] 170e5403b66b0f24\n",
      "['UNREAD', 'CATEGORY_UPDATES', 'INBOX'] 170e51bf75906f01\n",
      "['CATEGORY_PROMOTIONS', 'Label_9107934569536478165', 'UNREAD'] 170b6ebeed75301a\n",
      "['UNREAD', 'IMPORTANT', 'CATEGORY_UPDATES', 'INBOX'] 170b199e920565a2\n",
      "['Label_9107934569536478165', 'UNREAD', 'CATEGORY_UPDATES'] 16cc970c3732c15d\n",
      "['CATEGORY_PROMOTIONS', 'INBOX'] 152a66c4c3197799\n",
      "['IMPORTANT', 'STARRED', 'CATEGORY_UPDATES', 'INBOX'] 1501e483d8f8ea5f\n"
     ]
    }
   ],
   "source": [
    "for mail in mailBox:\n",
    "    print(mail[\"labelIds\"], mail[\"id\"])"
   ]
  },
  {
   "cell_type": "code",
   "execution_count": 63,
   "metadata": {},
   "outputs": [],
   "source": [
    "def modify_message_label(service, user_id, msg_id, msg_labels):\n",
    "  \"\"\"Modify the Labels on the given Message.\n",
    "\n",
    "  Args:\n",
    "    service: Authorized Gmail API service instance.\n",
    "    user_id: User's email address. The special value \"me\"\n",
    "    can be used to indicate the authenticated user.\n",
    "    msg_id: The id of the message required.\n",
    "    msg_labels: The change in labels.\n",
    "\n",
    "  Returns:\n",
    "    Modified message, containing updated labelIds, id and threadId.\n",
    "  \"\"\"\n",
    "  try:\n",
    "    message = service.users().messages().modify(userId=user_id, \n",
    "                                                id=msg_id, \n",
    "                                                body=msg_labels).execute()\n",
    "\n",
    "    label_ids = message['labelIds']\n",
    "\n",
    "    print('Message ID: %s - With Label IDs %s' % (msg_id, label_ids))\n",
    "    return message\n",
    "  except Exception as error:\n",
    "    print ('An error occurred: %s' % error)"
   ]
  },
  {
   "cell_type": "code",
   "execution_count": 65,
   "metadata": {},
   "outputs": [
    {
     "name": "stdout",
     "output_type": "stream",
     "text": [
      "An error occurred: <HttpError 403 when requesting https://www.googleapis.com/gmail/v1/users/me/messages/170ea52a3c45d1c1/modify?alt=json returned \"Insufficient Permission\">\n"
     ]
    }
   ],
   "source": [
    "label_actions = {'removeLabelIds': [], 'addLabelIds': ['Label_8697186808597687342']}\n",
    "\n",
    "modify_message_label(service, \"me\", \"170ea52a3c45d1c1\", label_actions)"
   ]
  },
  {
   "cell_type": "code",
   "execution_count": null,
   "metadata": {},
   "outputs": [],
   "source": []
  }
 ],
 "metadata": {
  "kernelspec": {
   "display_name": "Python 3",
   "language": "python",
   "name": "python3"
  },
  "language_info": {
   "codemirror_mode": {
    "name": "ipython",
    "version": 3
   },
   "file_extension": ".py",
   "mimetype": "text/x-python",
   "name": "python",
   "nbconvert_exporter": "python",
   "pygments_lexer": "ipython3",
   "version": "3.7.2"
  }
 },
 "nbformat": 4,
 "nbformat_minor": 4
}
