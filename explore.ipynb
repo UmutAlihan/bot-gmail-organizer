{
 "cells": [
  {
   "cell_type": "code",
   "execution_count": null,
   "metadata": {},
   "outputs": [],
   "source": [
    "#!pip3 install --upgrade google-api-python-client google-auth-httplib2 google-auth-oauthlib\n",
    "!pip3 install --upgrade jupyterlab-git"
   ]
  },
  {
   "cell_type": "code",
   "execution_count": 6,
   "metadata": {},
   "outputs": [],
   "source": [
    "import gmail_bot_functions as gb"
   ]
  },
  {
   "cell_type": "code",
   "execution_count": 7,
   "metadata": {},
   "outputs": [],
   "source": [
    "#Authenticate to your gmail address\n",
    "service = gb.auth_service()\n",
    "\n",
    "# Get all mail ids\n",
    "#mailIds = gb.list_all_messages(service, \"me\")\n",
    "mailIds = gb.list_messages_with_matching_query(service, \"me\", query='glassdoor')"
   ]
  },
  {
   "cell_type": "code",
   "execution_count": 19,
   "metadata": {},
   "outputs": [],
   "source": [
    "mailBox = []\n",
    "stop = 100\n",
    "for i, mailId in enumerate(mailIds):\n",
    "    #print(i)\n",
    "    msg = gb.get_message(service, \"me\", mailId[\"id\"])\n",
    "    mailBox.append(msg)\n",
    "    if( i == stop):\n",
    "        print(\"Got 100 test mails as 'msgs' var\")\n",
    "        break"
   ]
  },
  {
   "cell_type": "code",
   "execution_count": 20,
   "metadata": {},
   "outputs": [
    {
     "data": {
      "text/plain": [
       "11"
      ]
     },
     "execution_count": 20,
     "metadata": {},
     "output_type": "execute_result"
    }
   ],
   "source": [
    "len(mailBox)"
   ]
  },
  {
   "cell_type": "code",
   "execution_count": 21,
   "metadata": {},
   "outputs": [],
   "source": [
    "labelid = gb.get_id_for_labelname(service, \"JobApp\")\n",
    "label_actions = {'removeLabelIds': [], 'addLabelIds': [labelid]}\n",
    "\n",
    "for mail in mailBox:\n",
    "    if(labelid in mail[\"labelIds\"]):\n",
    "        pass\n",
    "    else:\n",
    "        print(mail[\"labelIds\"], mail[\"id\"])"
   ]
  },
  {
   "cell_type": "code",
   "execution_count": 22,
   "metadata": {},
   "outputs": [
    {
     "name": "stdout",
     "output_type": "stream",
     "text": [
      "It has JobApp label: 17108d5d8efce2ca\n",
      "It has JobApp label: 170f96831c49c2d0\n",
      "It has JobApp label: 170f49e7e66ba589\n",
      "It has JobApp label: 170ea52a3c45d1c1\n",
      "It has JobApp label: 170e5403b66b0f24\n",
      "It has JobApp label: 170e51bf75906f01\n",
      "It has JobApp label: 170b6ebeed75301a\n",
      "It has JobApp label: 170b199e920565a2\n",
      "It has JobApp label: 16cc970c3732c15d\n",
      "It has JobApp label: 152a66c4c3197799\n",
      "It has JobApp label: 1501e483d8f8ea5f\n"
     ]
    }
   ],
   "source": [
    "# find un-labeled mails (\"JobApp\") and label those\n",
    "for mail in mailBox:\n",
    "    if(labelid in mail[\"labelIds\"]):\n",
    "        print(\"It has JobApp label: \" + mail[\"id\"] )\n",
    "        pass\n",
    "    else:\n",
    "        print(\"Modifing to JobApp:\" + mail[\"id\"])\n",
    "        gb.modify_message_label(service, \"me\", mail[\"id\"], label_actions)  \n",
    "        #modify_message_label(service, user_id, msg_id, msg_labels)"
   ]
  },
  {
   "cell_type": "code",
   "execution_count": null,
   "metadata": {},
   "outputs": [],
   "source": []
  }
 ],
 "metadata": {
  "kernelspec": {
   "display_name": "Python 3",
   "language": "python",
   "name": "python3"
  },
  "language_info": {
   "codemirror_mode": {
    "name": "ipython",
    "version": 3
   },
   "file_extension": ".py",
   "mimetype": "text/x-python",
   "name": "python",
   "nbconvert_exporter": "python",
   "pygments_lexer": "ipython3",
   "version": "3.7.2"
  }
 },
 "nbformat": 4,
 "nbformat_minor": 4
}
