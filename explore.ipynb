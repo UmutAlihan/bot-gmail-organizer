{
 "cells": [
  {
   "cell_type": "code",
   "execution_count": null,
   "metadata": {},
   "outputs": [],
   "source": [
    "#!pip3 install --upgrade google-api-python-client google-auth-httplib2 google-auth-oauthlib\n",
    "#!pip3 uninstall jupyterlab-git\n",
    "#!jupyter labextension uninstal jupyterlab-git"
   ]
  },
  {
   "cell_type": "code",
   "execution_count": null,
   "metadata": {},
   "outputs": [],
   "source": [
    "import gmail_bot_functions as gb\n",
    "import dateutil.relativedelta\n",
    "import datetime\n",
    "from time import time\n",
    "\n",
    "service = gb.auth_service()\n",
    "mailIds = gb.list_all_messages(service, \"me\")"
   ]
  },
  {
   "cell_type": "code",
   "execution_count": null,
   "metadata": {},
   "outputs": [],
   "source": [
    "mailBox = gb.mailBox_retriever(service, mailIds, stop=100, verbose=True)\n",
    "len(mailBox)"
   ]
  },
  {
   "cell_type": "code",
   "execution_count": null,
   "metadata": {},
   "outputs": [],
   "source": [
    "fms = gb.find_mailids_below_threshold(mailBox, 1, verbose=False)\n",
    "len(fms)"
   ]
  },
  {
   "cell_type": "code",
   "execution_count": null,
   "metadata": {},
   "outputs": [],
   "source": [
    "gb.list_labels(service, \"me\")"
   ]
  },
  {
   "cell_type": "code",
   "execution_count": null,
   "metadata": {},
   "outputs": [],
   "source": [
    "i = 13\n",
    "mail_to_thrash = fms[i][\"id\"]\n",
    "gb.trash_message(service, mail_to_thrash)"
   ]
  },
  {
   "cell_type": "code",
   "execution_count": 194,
   "metadata": {},
   "outputs": [
    {
     "name": "stdout",
     "output_type": "stream",
     "text": [
      "['auth_service()\\n', 'get_messages(service, user_id)\\n', 'get_message(service, user_id, msg_id)\\n', 'get_attachments(service, user_id, msg_id, store_dir)\\n', 'list_all_messages(service, user_id)\\n', \"list_messages_with_matching_query(service, user_id, query='')\\n\", 'list_messages_with_label(service, user_id, label_ids=[])\\n', 'to_datetime(u):\\n', 'to_unixtime(d)\\n', 'check_direction(mail)\\n', 'ind_matching_received_mails(query_string, mailbox)\\n', 'list_labels(service, user_id)\\n', 'get_id_for_labelname(service, labelname)\\n', 'modify_message_label(service, user_id, msg_id, msg_labels)\\n', 'ind_mailids_below_threshold(mailBox, month, verbose=False)\\n', 'mailBox_retriever(service, mailIds, stop=None, verbose=False)\\n', 'trash_message(service, mailid ,userId=\"me\")\\n', 'def create_object_for_labelupdate()\\n', 'def check_string_in_From(query_string, mail)\\n', 'def get_mime_message(service, user_id, msg_id)\\n']\n"
     ]
    }
   ],
   "source": []
  }
 ],
 "metadata": {
  "kernelspec": {
   "display_name": "Python 3",
   "language": "python",
   "name": "python3"
  },
  "language_info": {
   "codemirror_mode": {
    "name": "ipython",
    "version": 3
   },
   "file_extension": ".py",
   "mimetype": "text/x-python",
   "name": "python",
   "nbconvert_exporter": "python",
   "pygments_lexer": "ipython3",
   "version": "3.7.2"
  }
 },
 "nbformat": 4,
 "nbformat_minor": 4
}
