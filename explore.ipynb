{
 "cells": [
  {
   "cell_type": "code",
   "execution_count": 1,
   "metadata": {},
   "outputs": [],
   "source": [
    "import gmail_bot_functions as gb"
   ]
  },
  {
   "cell_type": "code",
   "execution_count": 2,
   "metadata": {},
   "outputs": [],
   "source": [
    "#Authenticate to your gmail address\n",
    "service = gb.auth_service()\n",
    "\n",
    "# Get all mail ids\n",
    "mailIds = gb.list_all_messages(service,\"me\")"
   ]
  },
  {
   "cell_type": "code",
   "execution_count": null,
   "metadata": {},
   "outputs": [],
   "source": [
    "msgs = []\n",
    "for i, mailId in enumerate(mailIds):\n",
    "    #print(i)\n",
    "    msg = gb.get_message(service, \"me\", mailId[\"id\"])\n",
    "    msgs.append(msg)"
   ]
  },
  {
   "cell_type": "code",
   "execution_count": null,
   "metadata": {},
   "outputs": [],
   "source": [
    "msgs[4][\"payload\"][\"headers\"][15]"
   ]
  },
  {
   "cell_type": "code",
   "execution_count": 5,
   "metadata": {},
   "outputs": [
    {
     "name": "stdout",
     "output_type": "stream",
     "text": [
      "Glassdoor Jobs <noreply@glassdoor.com>\n"
     ]
    }
   ],
   "source": [
    "for data in msgs[28][\"payload\"][\"headers\"]:\n",
    "    if(data[\"name\"] == \"From\"):\n",
    "        print(data[\"value\"])"
   ]
  },
  {
   "cell_type": "code",
   "execution_count": null,
   "metadata": {},
   "outputs": [],
   "source": [
    "for msg in msgs:\n",
    "    data = gb.check_string_in_From(\"glassdoor\", msg)"
   ]
  },
  {
   "cell_type": "code",
   "execution_count": 9,
   "metadata": {},
   "outputs": [
    {
     "name": "stdout",
     "output_type": "stream",
     "text": [
      "Glassdoor Jobs <noreply@glassdoor.com>\n",
      "Glassdoor Jobs <noreply@glassdoor.com>\n",
      "Glassdoor Jobs <noreply@glassdoor.com>\n",
      "Glassdoor Jobs <noreply@glassdoor.com>\n",
      "Glassdoor Jobs <noreply@glassdoor.com>\n",
      "Glassdoor Jobs <noreply@glassdoor.com>\n",
      "Glassdoor Jobs <noreply@glassdoor.com>\n"
     ]
    }
   ],
   "source": [
    "for msg in msgs:\n",
    "    for data in msg[\"payload\"][\"headers\"]:\n",
    "        if(data[\"name\"] == \"From\"):\n",
    "            if(\"glassdoor\" in data[\"value\"]):\n",
    "                print(data[\"value\"])"
   ]
  },
  {
   "cell_type": "code",
   "execution_count": 59,
   "metadata": {},
   "outputs": [],
   "source": [
    "def check_string_in_From(query_string, mail):\n",
    "    found_mails = []\n",
    "    for data in mail[\"payload\"][\"headers\"]:\n",
    "        if(data[\"name\"] == \"From\"):\n",
    "            if(query_string in data[\"value\"]):\n",
    "                print(data)\n",
    "                found_mails.append(data)\n",
    "    return found_mails"
   ]
  },
  {
   "cell_type": "code",
   "execution_count": 60,
   "metadata": {},
   "outputs": [
    {
     "name": "stdout",
     "output_type": "stream",
     "text": [
      "{'name': 'From', 'value': 'Glassdoor Jobs <noreply@glassdoor.com>'}\n",
      "{'name': 'From', 'value': 'Glassdoor Jobs <noreply@glassdoor.com>'}\n",
      "{'name': 'From', 'value': 'Glassdoor Jobs <noreply@glassdoor.com>'}\n",
      "{'name': 'From', 'value': 'Glassdoor Jobs <noreply@glassdoor.com>'}\n",
      "{'name': 'From', 'value': 'Glassdoor Jobs <noreply@glassdoor.com>'}\n",
      "{'name': 'From', 'value': 'Glassdoor Jobs <noreply@glassdoor.com>'}\n",
      "{'name': 'From', 'value': 'Glassdoor Jobs <noreply@glassdoor.com>'}\n"
     ]
    }
   ],
   "source": [
    "for i, msg in enumerate(msgs):\n",
    "    #print(i)\n",
    "    found_mails = check_string_in_From(\"glassdoor\", msg)"
   ]
  },
  {
   "cell_type": "code",
   "execution_count": null,
   "metadata": {},
   "outputs": [],
   "source": []
  }
 ],
 "metadata": {
  "kernelspec": {
   "display_name": "Python 3",
   "language": "python",
   "name": "python3"
  },
  "language_info": {
   "codemirror_mode": {
    "name": "ipython",
    "version": 3
   },
   "file_extension": ".py",
   "mimetype": "text/x-python",
   "name": "python",
   "nbconvert_exporter": "python",
   "pygments_lexer": "ipython3",
   "version": "3.6.9"
  }
 },
 "nbformat": 4,
 "nbformat_minor": 4
}
