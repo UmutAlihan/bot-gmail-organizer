{
 "cells": [
  {
   "cell_type": "code",
   "execution_count": null,
   "metadata": {},
   "outputs": [],
   "source": [
    "#!pip3 install --upgrade google-api-python-client google-auth-httplib2 google-auth-oauthlib\n",
    "#!pip3 uninstall jupyterlab-git\n",
    "#!jupyter labextension uninstal jupyterlab-git"
   ]
  },
  {
   "cell_type": "code",
   "execution_count": 1,
   "metadata": {},
   "outputs": [
    {
     "name": "stderr",
     "output_type": "stream",
     "text": [
      "2020-04-08 22:18:54 uad root[7411] INFO # Authenticated\n",
      "2020-04-08 22:19:31 uad root[7411] INFO Got limited 10 mails!\n"
     ]
    },
    {
     "data": {
      "text/plain": [
       "11"
      ]
     },
     "execution_count": 1,
     "metadata": {},
     "output_type": "execute_result"
    }
   ],
   "source": [
    "import gmail_bot_functions as gb\n",
    "import dateutil.relativedelta\n",
    "import datetime\n",
    "from time import time\n",
    "\n",
    "service = gb.auth_service()\n",
    "mailIds = gb.list_all_messages(service, \"me\")\n",
    "mailBox = gb.mailBox_retriever(service, mailIds, stop=10, verbose=True)\n",
    "len(mailBox)"
   ]
  },
  {
   "cell_type": "code",
   "execution_count": 5,
   "metadata": {},
   "outputs": [
    {
     "name": "stdout",
     "output_type": "stream",
     "text": [
      "sys.argv[0] = /usr/local/lib/python3.6/dist-packages/ipykernel_launcher.py\n",
      "path = /usr/local/lib/python3.6/dist-packages\n",
      "full path = /usr/local/lib/python3.6/dist-packages\n"
     ]
    }
   ],
   "source": [
    "import sys, os\n",
    "\n",
    "#print('sys.argv[0] =', sys.argv[0])\n",
    "pathname = os.path.dirname(sys.argv[0])\n",
    "fullpath = os.path.abspath(pathname)\n",
    "#print('path =', pathname)\n",
    "#print('full path =', os.path.abspath(pathname))\n",
    "\n",
    "filename = fullpath + \"path.out\"\n",
    "f = open(filename, \"w+\")\n",
    "f.close()\n",
    "\n"
   ]
  }
 ],
 "metadata": {
  "kernelspec": {
   "display_name": "Python 3",
   "language": "python",
   "name": "python3"
  },
  "language_info": {
   "codemirror_mode": {
    "name": "ipython",
    "version": 3
   },
   "file_extension": ".py",
   "mimetype": "text/x-python",
   "name": "python",
   "nbconvert_exporter": "python",
   "pygments_lexer": "ipython3",
   "version": "3.6.9"
  }
 },
 "nbformat": 4,
 "nbformat_minor": 4
}
