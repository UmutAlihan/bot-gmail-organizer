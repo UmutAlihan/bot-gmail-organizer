{
 "cells": [
  {
   "cell_type": "code",
   "execution_count": null,
   "metadata": {},
   "outputs": [],
   "source": [
    "#!pip3 install --upgrade google-api-python-client google-auth-httplib2 google-auth-oauthlib\n",
    "#!pip3 uninstall jupyterlab-git\n",
    "#!jupyter labextension uninstal jupyterlab-git"
   ]
  },
  {
   "cell_type": "code",
   "execution_count": 1,
   "metadata": {},
   "outputs": [
    {
     "name": "stdout",
     "output_type": "stream",
     "text": [
      "# Authenticated\n"
     ]
    }
   ],
   "source": [
    "import gmail_bot_functions as gb\n",
    "import dateutil.relativedelta\n",
    "import datetime\n",
    "from time import time\n",
    "\n",
    "service = gb.auth_service()\n",
    "#mailIds = gb.list_all_messages(service, \"me\")\n",
    "\n",
    "#mailBox = gb.mailBox_retriever(service, mailIds, stop=250, verbose=True)\n",
    "#len(mailBox)"
   ]
  },
  {
   "cell_type": "code",
   "execution_count": 2,
   "metadata": {},
   "outputs": [],
   "source": [
    "def label_messages_with_multiple_queries(queries, label):\n",
    "    labelid = gb.get_id_for_labelname(service, label)\n",
    "    labelid_inbox = gb.get_id_for_labelname(service, \"INBOX\")\n",
    "    label_actions_jobapp = {'removeLabelIds': [labelid_inbox], \n",
    "                            'addLabelIds': [labelid]}\n",
    "\n",
    "    for query in queries:\n",
    "        print(\"For Query: \" + query)\n",
    "        mailIds = gb.list_messages_with_matching_query(service, \"me\", query=query)\n",
    "        len(mailIds)\n",
    "\n",
    "        mailBox = gb.mailBox_retriever(service, mailIds, verbose=False)\n",
    "        \n",
    "        # More filters after using default Gmail API query\n",
    "        #   Search 'query' string in \"From\" mail adresses\n",
    "        for mail in mailBox:\n",
    "            for header in mail[\"payload\"][\"headers\"]:\n",
    "                if(header[\"name\"] == \"From\"):\n",
    "                    if(query in header[\"value\"]):  #### query is used here\n",
    "                        if(labelid in mail[\"labelIds\"]): ####\n",
    "                            print(\"It has already \" + label + \" label: \" + mail[\"id\"] )\n",
    "                            pass\n",
    "                        else:\n",
    "                            print(\"Modifing to \" + label + \" :\" + mail[\"id\"])\n",
    "                            gb.modify_message_label(service, \"me\", mail[\"id\"], label_actions_jobapp)  "
   ]
  },
  {
   "cell_type": "code",
   "execution_count": 3,
   "metadata": {},
   "outputs": [
    {
     "name": "stdout",
     "output_type": "stream",
     "text": [
      "For Query: Reddit\n",
      "Modifing to Informative :1713bcd72b83fd52\n",
      "Modifing to Informative :17136d4679411dbe\n",
      "Modifing to Informative :170e4468bc5434af\n",
      "Modifing to Informative :170db130d94328e2\n",
      "Modifing to Informative :170545fd25174f55\n",
      "Modifing to Informative :17017b9069aae72a\n",
      "Modifing to Informative :16f35141467c1cd7\n",
      "For Query: Stack Overflow\n",
      "Modifing to Informative :1713ad3e77d3bc19\n"
     ]
    }
   ],
   "source": [
    "queries = [\"Reddit\", \"Stack Overflow\"]\n",
    "label = \"Informative\"\n",
    "\n",
    "label_messages_with_multiple_queries(queries, label)"
   ]
  },
  {
   "cell_type": "code",
   "execution_count": null,
   "metadata": {},
   "outputs": [],
   "source": [
    "\t\t# Get label ids\n",
    "\t\t\"\"\"labelids = {\"jobapp\" : gb.get_id_for_labelname(service, \"JobApp\"),\n",
    "\t\t            \"inbox\" : gb.get_id_for_labelname(service, \"INBOX\"),\n",
    "\t\t            \"dailycode\" :  gb.get_id_for_labelname(service, \"Daily Code\")}\"\"\"\n",
    "\t\tlabelid = gb.get_id_for_labelname(service, labelname)\n",
    "\t\tlabelid_inbox = gb.get_id_for_labelname(service, \"INBOX\")\n",
    "\n",
    "\t\tlabel_actions_jobapp = {'removeLabelIds': [labelid_inbox], \n",
    "\t\t\t\t\t\t\t\t'addLabelIds': [labelid]}"
   ]
  },
  {
   "cell_type": "code",
   "execution_count": null,
   "metadata": {},
   "outputs": [],
   "source": [
    "fms = gb.find_mailids_below_threshold(mailBox, 0, verbose=False)\n",
    "len(fms)"
   ]
  },
  {
   "cell_type": "code",
   "execution_count": null,
   "metadata": {},
   "outputs": [],
   "source": [
    "for mail in mails:\n",
    "    print(gb.get_message_info(mail))"
   ]
  }
 ],
 "metadata": {
  "kernelspec": {
   "display_name": "Python 3",
   "language": "python",
   "name": "python3"
  },
  "language_info": {
   "codemirror_mode": {
    "name": "ipython",
    "version": 3
   },
   "file_extension": ".py",
   "mimetype": "text/x-python",
   "name": "python",
   "nbconvert_exporter": "python",
   "pygments_lexer": "ipython3",
   "version": "3.6.9"
  }
 },
 "nbformat": 4,
 "nbformat_minor": 4
}
